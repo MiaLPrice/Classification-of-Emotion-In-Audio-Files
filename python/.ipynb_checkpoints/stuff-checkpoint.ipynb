{
 "cells": [
  {
   "cell_type": "code",
   "execution_count": 30,
   "metadata": {},
   "outputs": [],
   "source": [
    "# imports\n",
    "import pandas as pd\n",
    "import numpy as np\n",
    "import tensorflow as tf\n",
    "import os\n",
    "import seaborn as sns"
   ]
  },
  {
   "cell_type": "code",
   "execution_count": 29,
   "metadata": {},
   "outputs": [
    {
     "data": {
      "text/html": [
       "<div>\n",
       "<style scoped>\n",
       "    .dataframe tbody tr th:only-of-type {\n",
       "        vertical-align: middle;\n",
       "    }\n",
       "\n",
       "    .dataframe tbody tr th {\n",
       "        vertical-align: top;\n",
       "    }\n",
       "\n",
       "    .dataframe thead th {\n",
       "        text-align: right;\n",
       "    }\n",
       "</style>\n",
       "<table border=\"1\" class=\"dataframe\">\n",
       "  <thead>\n",
       "    <tr style=\"text-align: right;\">\n",
       "      <th></th>\n",
       "      <th>file</th>\n",
       "      <th>emotion</th>\n",
       "    </tr>\n",
       "  </thead>\n",
       "  <tbody>\n",
       "    <tr>\n",
       "      <td>0</td>\n",
       "      <td>03-01-01-01-01-01-01.wav</td>\n",
       "      <td>1</td>\n",
       "    </tr>\n",
       "    <tr>\n",
       "      <td>1</td>\n",
       "      <td>03-01-01-01-01-01-02.wav</td>\n",
       "      <td>1</td>\n",
       "    </tr>\n",
       "    <tr>\n",
       "      <td>2</td>\n",
       "      <td>03-01-01-01-01-01-03.wav</td>\n",
       "      <td>1</td>\n",
       "    </tr>\n",
       "    <tr>\n",
       "      <td>3</td>\n",
       "      <td>03-01-01-01-01-01-04.wav</td>\n",
       "      <td>1</td>\n",
       "    </tr>\n",
       "    <tr>\n",
       "      <td>4</td>\n",
       "      <td>03-01-01-01-01-01-05.wav</td>\n",
       "      <td>1</td>\n",
       "    </tr>\n",
       "  </tbody>\n",
       "</table>\n",
       "</div>"
      ],
      "text/plain": [
       "                       file  emotion\n",
       "0  03-01-01-01-01-01-01.wav        1\n",
       "1  03-01-01-01-01-01-02.wav        1\n",
       "2  03-01-01-01-01-01-03.wav        1\n",
       "3  03-01-01-01-01-01-04.wav        1\n",
       "4  03-01-01-01-01-01-05.wav        1"
      ]
     },
     "execution_count": 29,
     "metadata": {},
     "output_type": "execute_result"
    }
   ],
   "source": [
    "# datafiles\n",
    "os.getcwd()\n",
    "os.path.exists(\"..\\\\files\\\\\")\n",
    "# emotion.csv is a one-hot encoding table that tells what emotion is conveyed in each wave file\n",
    "# Emotion (01 = neutral, 02 = calm, 03 = happy, 04 = sad, 05 = angry, 06 = fearful, 07 = disgust, 08 = surprised)\n",
    "emotion = pd.read_csv(\"..\\\\files\\\\emotion.csv\")\n",
    "emotion = pd.DataFrame(\n",
    "            {'file_name': emotion['file_name'], \n",
    "             'neutral': emotion['1'],\n",
    "             'calm':emotion['2'],\n",
    "             'happy':emotion['3'],\n",
    "             'sad':emotion['4'],\n",
    "             'angry':emotion['5'],\n",
    "             'fearful': emotion['6'],\n",
    "             'disgust':emotion['7'],\n",
    "             'surprised': emotion['8']\n",
    "            })\n",
    "# ravdess_audio_file_attributes.csv has all the attributes for each audio file including modality, voice_channel, emotion, intensity, statement, Repetition, actor, gender of actor\n",
    "audiofile_attibutes = pd.read_csv(\"..\\\\files\\\\ravdess_audio_file_attributes.csv\")\n",
    "# not sure why I made this but i feel it may come in handy\n",
    "audiofile_emotion = pd.DataFrame({'file': audiofile_attibutes['file_name'], 'emotion':audiofile_attibutes['Emotion']})"
   ]
  },
  {
   "cell_type": "code",
   "execution_count": 32,
   "metadata": {},
   "outputs": [
    {
     "data": {
      "image/png": "[encoded data removed]",
      "text/plain": [
       "<Figure size 432x288 with 1 Axes>"
      ]
     },
     "metadata": {
      "needs_background": "light"
     },
     "output_type": "display_data"
    }
   ],
   "source": [
    "# Beginning of some quick visualizations\n",
    "# All of my attributes are categorical, so I will just show boxplots\n",
    "age_titanic = sns.barplot(x=audiofile_attibutes['Emotion'], y = count(audiofile_attibutes['Emotion']))"
   ]
  },
  {
   "cell_type": "code",
   "execution_count": null,
   "metadata": {},
   "outputs": [],
   "source": []
  }
 ],
 "metadata": {
  "kernelspec": {
   "display_name": "Python 3",
   "language": "python",
   "name": "python3"
  },
  "language_info": {
   "codemirror_mode": {
    "name": "ipython",
    "version": 3
   },
   "file_extension": ".py",
   "mimetype": "text/x-python",
   "name": "python",
   "nbconvert_exporter": "python",
   "pygments_lexer": "ipython3",
   "version": "3.7.4"
  }
 },
 "nbformat": 4,
 "nbformat_minor": 4
}
